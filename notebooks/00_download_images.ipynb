{
 "cells": [
  {
   "cell_type": "markdown",
   "metadata": {},
   "source": [
    "# Download Test Images from Unsplash\n",
    "\n",
    "A file list is stored in unsplash_images.csv"
   ]
  },
  {
   "cell_type": "code",
   "execution_count": 1,
   "metadata": {},
   "outputs": [],
   "source": [
    "import pandas as pd\n",
    "from urllib.request import urlretrieve\n",
    "from pathlib import Path"
   ]
  },
  {
   "cell_type": "code",
   "execution_count": 2,
   "metadata": {},
   "outputs": [
    {
     "data": {
      "text/html": [
       "<div>\n",
       "<style scoped>\n",
       "    .dataframe tbody tr th:only-of-type {\n",
       "        vertical-align: middle;\n",
       "    }\n",
       "\n",
       "    .dataframe tbody tr th {\n",
       "        vertical-align: top;\n",
       "    }\n",
       "\n",
       "    .dataframe thead th {\n",
       "        text-align: right;\n",
       "    }\n",
       "</style>\n",
       "<table border=\"1\" class=\"dataframe\">\n",
       "  <thead>\n",
       "    <tr style=\"text-align: right;\">\n",
       "      <th></th>\n",
       "      <th>url</th>\n",
       "    </tr>\n",
       "    <tr>\n",
       "      <th>id</th>\n",
       "      <th></th>\n",
       "    </tr>\n",
       "  </thead>\n",
       "  <tbody>\n",
       "    <tr>\n",
       "      <th>t1NEMSm1rgI</th>\n",
       "      <td>https://images.unsplash.com/photo-1552196563-5...</td>\n",
       "    </tr>\n",
       "    <tr>\n",
       "      <th>j1Ozj3ZtAmc</th>\n",
       "      <td>https://images.unsplash.com/photo-1552196585-0...</td>\n",
       "    </tr>\n",
       "    <tr>\n",
       "      <th>xMHFtD-XTtw</th>\n",
       "      <td>https://images.unsplash.com/photo-1552196527-9...</td>\n",
       "    </tr>\n",
       "    <tr>\n",
       "      <th>lBpmXaNQOCM</th>\n",
       "      <td>https://images.unsplash.com/photo-1552196634-2...</td>\n",
       "    </tr>\n",
       "    <tr>\n",
       "      <th>4s2FBznYIxg</th>\n",
       "      <td>https://images.unsplash.com/photo-1552196527-9...</td>\n",
       "    </tr>\n",
       "  </tbody>\n",
       "</table>\n",
       "</div>"
      ],
      "text/plain": [
       "                                                           url\n",
       "id                                                            \n",
       "t1NEMSm1rgI  https://images.unsplash.com/photo-1552196563-5...\n",
       "j1Ozj3ZtAmc  https://images.unsplash.com/photo-1552196585-0...\n",
       "xMHFtD-XTtw  https://images.unsplash.com/photo-1552196527-9...\n",
       "lBpmXaNQOCM  https://images.unsplash.com/photo-1552196634-2...\n",
       "4s2FBznYIxg  https://images.unsplash.com/photo-1552196527-9..."
      ]
     },
     "metadata": {},
     "output_type": "display_data"
    }
   ],
   "source": [
    "df = pd.read_csv('../data/unsplash_images.csv', header=None, names=['id','url']).set_index('id')\n",
    "display(df.head())"
   ]
  },
  {
   "cell_type": "code",
   "execution_count": 3,
   "metadata": {},
   "outputs": [
    {
     "name": "stdout",
     "output_type": "stream",
     "text": [
      "downloading ../data/images/unsplash/yoga/t1NEMSm1rgI.jpg\n",
      "downloading ../data/images/unsplash/yoga/j1Ozj3ZtAmc.jpg\n",
      "downloading ../data/images/unsplash/yoga/xMHFtD-XTtw.jpg\n",
      "downloading ../data/images/unsplash/yoga/lBpmXaNQOCM.jpg\n",
      "downloading ../data/images/unsplash/yoga/4s2FBznYIxg.jpg\n",
      "downloading ../data/images/unsplash/yoga/I7FsT6N94io.jpg\n",
      "downloading ../data/images/unsplash/yoga/y9RW69F3YnM.jpg\n",
      "downloading ../data/images/unsplash/yoga/Qvkv9MyYdLo.jpg\n",
      "downloading ../data/images/unsplash/yoga/SxR5wZYaOtg.jpg\n",
      "downloading ../data/images/unsplash/yoga/s9laK07dK2A.jpg\n",
      "downloading ../data/images/unsplash/yoga/oPpSdpZgeb4.jpg\n",
      "downloading ../data/images/unsplash/yoga/agl-F8e7xGY.jpg\n",
      "downloading ../data/images/unsplash/yoga/CDJCAcAAPlU.jpg\n",
      "downloading ../data/images/unsplash/yoga/kycv_tIsaO8.jpg\n",
      "downloading ../data/images/unsplash/yoga/wa8o6rs22Fw.jpg\n",
      "downloading ../data/images/unsplash/yoga/L5o5ainVP_I.jpg\n",
      "downloading ../data/images/unsplash/yoga/N6FsJrlk89U.jpg\n"
     ]
    }
   ],
   "source": [
    "url_params = '?q=75&fm=jpg&w=400&fit=max'\n",
    "\n",
    "img_dir = Path('../data/images/unsplash/yoga')\n",
    "\n",
    "for index, row in df.iterrows():\n",
    "    print(f'downloading {img_dir/index}.jpg')\n",
    "    urlretrieve(f'{row.url}{url_params}', img_dir/f'{index}.jpg')"
   ]
  }
 ],
 "metadata": {
  "kernelspec": {
   "display_name": "Python 3",
   "language": "python",
   "name": "python3"
  },
  "language_info": {
   "codemirror_mode": {
    "name": "ipython",
    "version": 3
   },
   "file_extension": ".py",
   "mimetype": "text/x-python",
   "name": "python",
   "nbconvert_exporter": "python",
   "pygments_lexer": "ipython3",
   "version": "3.6.9"
  }
 },
 "nbformat": 4,
 "nbformat_minor": 4
}
